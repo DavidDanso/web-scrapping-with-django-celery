{
 "cells": [
  {
   "cell_type": "code",
   "execution_count": 2,
   "id": "ff13884b-c9aa-4e9e-901e-8788583513f3",
   "metadata": {},
   "outputs": [],
   "source": [
    "import setup\n",
    "setup.init_django(project_name='cfehome')"
   ]
  },
  {
   "cell_type": "code",
   "execution_count": 6,
   "id": "720a3847-e49d-43a6-bb46-ff1cb0d5e77b",
   "metadata": {},
   "outputs": [],
   "source": [
    "url=\"https://www.amazon.com/PlayStation-5-Console/dp/B09DFCB66S/ref=sr_1_8?dib=eyJ2IjoiMSJ9.zay7ZdlHRTmMc10aW7qCkzesCneAdSrHHQ5Jj2D66ru7ErtJ8RixzU7RJZ4r8HgksYbdOztrLHAM6O_Rfom2l08usYKdrstFNYHlZV3BXrYU10QND_x6glVNXk-WFWhwSg1kCbMBmqQafKwDXudVf3bMZG2UgahpuYGsRj_wWhZ5wnehxZHnesnQtV-eJDkZtphvpVhqf0m9ha80p-t1SGhgUqhf3sl_FreczDwzeFg.JtJo8NZc2vX3PH6ahSDdRKIn6D8FH4bHhwS_AehnDMI&dib_tag=se&keywords=playstation+5&qid=1711560461&sr=8-8\""
   ]
  },
  {
   "cell_type": "code",
   "execution_count": 7,
   "id": "789aac29-858d-4739-80e7-e79bafbac7b4",
   "metadata": {},
   "outputs": [],
   "source": [
    "import helpers"
   ]
  },
  {
   "cell_type": "code",
   "execution_count": 9,
   "id": "baa24756-e247-439d-8d94-09c62ea3ac9c",
   "metadata": {},
   "outputs": [
    {
     "name": "stdout",
     "output_type": "stream",
     "text": [
      "Connecting to Scraping Browser...\n",
      "Connected! Navigating to https://www.amazon.com/PlayStation-5-Console/dp/B09DFCB66S/ref=sr_1_8?dib=eyJ2IjoiMSJ9.zay7ZdlHRTmMc10aW7qCkzesCneAdSrHHQ5Jj2D66ru7ErtJ8RixzU7RJZ4r8HgksYbdOztrLHAM6O_Rfom2l08usYKdrstFNYHlZV3BXrYU10QND_x6glVNXk-WFWhwSg1kCbMBmqQafKwDXudVf3bMZG2UgahpuYGsRj_wWhZ5wnehxZHnesnQtV-eJDkZtphvpVhqf0m9ha80p-t1SGhgUqhf3sl_FreczDwzeFg.JtJo8NZc2vX3PH6ahSDdRKIn6D8FH4bHhwS_AehnDMI&dib_tag=se&keywords=playstation+5&qid=1711560461&sr=8-8\n",
      "Navigated! Scraping page content...\n"
     ]
    }
   ],
   "source": [
    "html = helpers.scrape(url=url)"
   ]
  },
  {
   "cell_type": "code",
   "execution_count": 10,
   "id": "52355a3c-a2f9-4f7c-a2c2-821cda4323dc",
   "metadata": {},
   "outputs": [],
   "source": [
    "from bs4 import BeautifulSoup"
   ]
  },
  {
   "cell_type": "code",
   "execution_count": 11,
   "id": "f83d5fb7-3285-44e9-8056-4b5da571f323",
   "metadata": {},
   "outputs": [],
   "source": [
    "soup = BeautifulSoup(html)"
   ]
  },
  {
   "cell_type": "markdown",
   "id": "d82fa5aa-fd69-4d23-bdbf-fd7f68186b12",
   "metadata": {},
   "source": [
    "```html\n",
    "<span id=\"productTitle\" class=\"a-size-large product-title-word-break\">        PlayStation 5 Console CFI-1102A       </span>\n",
    "```"
   ]
  },
  {
   "cell_type": "code",
   "execution_count": 13,
   "id": "0baca992-490d-45dd-b226-fed1cbd7213d",
   "metadata": {},
   "outputs": [],
   "source": [
    "productTitle = soup.find('span', id='productTitle')\n",
    "productTitle"
   ]
  },
  {
   "cell_type": "code",
   "execution_count": null,
   "id": "bc61fadc-266b-463f-ba21-49c78a59a4bc",
   "metadata": {},
   "outputs": [],
   "source": []
  }
 ],
 "metadata": {
  "kernelspec": {
   "display_name": "Python 3 (ipykernel)",
   "language": "python",
   "name": "python3"
  },
  "language_info": {
   "codemirror_mode": {
    "name": "ipython",
    "version": 3
   },
   "file_extension": ".py",
   "mimetype": "text/x-python",
   "name": "python",
   "nbconvert_exporter": "python",
   "pygments_lexer": "ipython3",
   "version": "3.11.4"
  }
 },
 "nbformat": 4,
 "nbformat_minor": 5
}
