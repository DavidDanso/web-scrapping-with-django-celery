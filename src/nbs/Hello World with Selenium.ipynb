{
 "cells": [
  {
   "cell_type": "code",
   "execution_count": 6,
   "id": "2ba66869-6112-46cf-897a-ca0af292c00e",
   "metadata": {},
   "outputs": [],
   "source": [
    "from selenium import webdriver\n",
    "from selenium.webdriver import ChromeOptions\n",
    "import time"
   ]
  },
  {
   "cell_type": "code",
   "execution_count": 13,
   "id": "2d5cd476-1c82-47a2-b8a7-f7ca3b7fdf64",
   "metadata": {},
   "outputs": [],
   "source": [
    "options = ChromeOptions()\n",
    "options.add_argument('--headless=new')"
   ]
  },
  {
   "cell_type": "code",
   "execution_count": 14,
   "id": "40a11701-5dfe-4a9f-9dda-a4194acfb876",
   "metadata": {},
   "outputs": [],
   "source": [
    "url=\"https://www.amazon.com/Charging-Station-Cooling-Controller-Compatible/dp/B0CM6L3L8W/ref=sr_1_1_sspa?crid=30XNON7CJL2QN&dib=eyJ2IjoiMSJ9.yso0-d9KMYdlvQKR3IMB8TesCneAdSrHHQ5Jj2D66ru7ErtJ8RixzU7RJZ4r8HgksYbdOztrLHAM6O_Rfom2l08usYKdrstFNYHlZV3BXrYU10QND_x6glVNXk-WFWhwSg1kCbMBmqQafKwDXudVf_Xd18qRUFEEGjdccihuBodGphh3Nvx-q2L4pTNEC-2qhjg6Xo5_p0RtgEcPzNBHOJowGAL_f1Dl04mxfvNoqzA.RRdj5znOCNn5EMgzgYiDajeZXCDkqhnW1En3qFk1Q4o&dib_tag=se&keywords=playstation+5&qid=1711539053&sprefix=playst%2Caps%2C455&sr=8-1-spons&sp_csd=d2lkZ2V0TmFtZT1zcF9hdGY&psc=1\""
   ]
  },
  {
   "cell_type": "code",
   "execution_count": 15,
   "id": "5ad21d7e-d362-4b6c-85eb-79e68ceae700",
   "metadata": {},
   "outputs": [],
   "source": [
    "with webdriver.Chrome(options=options) as driver:\n",
    "    driver.get(url) # HTTP GET Request -> requests.get(url)\n",
    "    time.sleep(10)\n",
    "    html = driver.page_source"
   ]
  },
  {
   "cell_type": "code",
   "execution_count": null,
   "id": "c9fe159a-8310-4989-950c-71439ad9f682",
   "metadata": {},
   "outputs": [],
   "source": [
    "# print(html)"
   ]
  }
 ],
 "metadata": {
  "kernelspec": {
   "display_name": "Python 3 (ipykernel)",
   "language": "python",
   "name": "python3"
  },
  "language_info": {
   "codemirror_mode": {
    "name": "ipython",
    "version": 3
   },
   "file_extension": ".py",
   "mimetype": "text/x-python",
   "name": "python",
   "nbconvert_exporter": "python",
   "pygments_lexer": "ipython3",
   "version": "3.11.4"
  }
 },
 "nbformat": 4,
 "nbformat_minor": 5
}
